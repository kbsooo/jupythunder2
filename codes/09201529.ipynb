{
 "cells": [
  {
   "cell_type": "code",
   "execution_count": 1,
   "id": "05b5a6af",
   "metadata": {
    "cell_id": "cell-1",
    "description": "Insert sort 함수 정의",
    "origin": "agent"
   },
   "outputs": [],
   "source": [
    "def insert_sort(arr):\n",
    "    for i in range(1, len(arr)):\n",
    "        key = arr[i]\n",
    "        j = i - 1\n",
    "        while j >= 0 and arr[j] > key:\n",
    "            arr[j + 1] = arr[j]\n",
    "            j -= 1\n",
    "        arr[j + 1] = key\n",
    "    return arr"
   ]
  }
 ],
 "metadata": {},
 "nbformat": 4,
 "nbformat_minor": 5
}
